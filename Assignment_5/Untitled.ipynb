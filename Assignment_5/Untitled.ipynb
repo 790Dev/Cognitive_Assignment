{
 "cells": [
  {
   "cell_type": "code",
   "execution_count": null,
   "id": "4b43cc15-b0b1-4ba4-9d38-9c4b064cdda0",
   "metadata": {},
   "outputs": [],
   "source": [
    "import numpy as np\n",
    "import matplotlib.pyplot as plt"
   ]
  },
  {
   "cell_type": "markdown",
   "id": "d3db1df0-7639-45f3-a2ce-20809f0b4e8d",
   "metadata": {},
   "source": [
    "**Q1**"
   ]
  },
  {
   "cell_type": "code",
   "execution_count": 42,
   "id": "926e4e3f-fb0c-436f-b40c-0d285e68c061",
   "metadata": {},
   "outputs": [],
   "source": [
    "gfg = np.matrix('[4, 1, 9; 12, 3, 1; 4, 5, 6]')"
   ]
  },
  {
   "cell_type": "code",
   "execution_count": 43,
   "id": "1826056a-6e1b-445b-ae29-dfea3c4bee25",
   "metadata": {},
   "outputs": [
    {
     "data": {
      "text/plain": [
       "matrix([[ 4,  1,  9],\n",
       "        [12,  3,  1],\n",
       "        [ 4,  5,  6]])"
      ]
     },
     "execution_count": 43,
     "metadata": {},
     "output_type": "execute_result"
    }
   ],
   "source": [
    "gfg"
   ]
  },
  {
   "cell_type": "code",
   "execution_count": 44,
   "id": "332e08d2-16f9-4b95-835e-3e0c63cff6e5",
   "metadata": {},
   "outputs": [
    {
     "data": {
      "text/plain": [
       "45"
      ]
     },
     "execution_count": 44,
     "metadata": {},
     "output_type": "execute_result"
    }
   ],
   "source": [
    "gfg.sum()"
   ]
  },
  {
   "cell_type": "code",
   "execution_count": 45,
   "id": "bac12bd8-1543-49d8-b549-55822c0e29c7",
   "metadata": {},
   "outputs": [
    {
     "data": {
      "text/plain": [
       "matrix([[14],\n",
       "        [16],\n",
       "        [15]])"
      ]
     },
     "execution_count": 45,
     "metadata": {},
     "output_type": "execute_result"
    }
   ],
   "source": [
    "gfg.sum(axis=1)"
   ]
  },
  {
   "cell_type": "code",
   "execution_count": 46,
   "id": "32724ae8-7912-48df-bc03-39fbb00626cb",
   "metadata": {},
   "outputs": [
    {
     "data": {
      "text/plain": [
       "matrix([[20,  9, 16]])"
      ]
     },
     "execution_count": 46,
     "metadata": {},
     "output_type": "execute_result"
    }
   ],
   "source": [
    "gfg.sum(axis=0)"
   ]
  },
  {
   "cell_type": "markdown",
   "id": "9dfee3c8-47ff-4391-9b61-e80e00848962",
   "metadata": {},
   "source": [
    "**Q2** a)"
   ]
  },
  {
   "cell_type": "code",
   "execution_count": 47,
   "id": "12b83b7b-d9b8-4fe5-9c52-b757ad8982b5",
   "metadata": {},
   "outputs": [],
   "source": [
    "array = np.array([10, 52, 62, 16, 16, 54, 453])"
   ]
  },
  {
   "cell_type": "code",
   "execution_count": 48,
   "id": "2ec8602d-ba80-439a-aacd-6daeb1d2c258",
   "metadata": {},
   "outputs": [
    {
     "data": {
      "text/plain": [
       "array([ 10,  16,  16,  52,  54,  62, 453])"
      ]
     },
     "execution_count": 48,
     "metadata": {},
     "output_type": "execute_result"
    }
   ],
   "source": [
    "np.sort(array)"
   ]
  },
  {
   "cell_type": "code",
   "execution_count": 49,
   "id": "13c07154-6b8f-4e0f-af6a-96f4be4d9aca",
   "metadata": {},
   "outputs": [
    {
     "data": {
      "text/plain": [
       "array([0, 3, 4, 1, 5, 2, 6], dtype=int64)"
      ]
     },
     "execution_count": 49,
     "metadata": {},
     "output_type": "execute_result"
    }
   ],
   "source": [
    "np.argsort(array)"
   ]
  },
  {
   "cell_type": "code",
   "execution_count": 50,
   "id": "c4107664-19e2-4791-8e51-bfac0f6ee4c2",
   "metadata": {},
   "outputs": [
    {
     "data": {
      "text/plain": [
       "array([10, 16, 16, 52])"
      ]
     },
     "execution_count": 50,
     "metadata": {},
     "output_type": "execute_result"
    }
   ],
   "source": [
    "np.sort(array)[:4]"
   ]
  },
  {
   "cell_type": "code",
   "execution_count": 51,
   "id": "1b99f4fe-961a-4184-aba1-154cd1b7f4b9",
   "metadata": {},
   "outputs": [
    {
     "data": {
      "text/plain": [
       "array([ 16,  52,  54,  62, 453])"
      ]
     },
     "execution_count": 51,
     "metadata": {},
     "output_type": "execute_result"
    }
   ],
   "source": [
    "np.sort(array)[-5:]"
   ]
  },
  {
   "cell_type": "markdown",
   "id": "1b51ee79-83c9-4ea3-8ae5-2919d739c678",
   "metadata": {},
   "source": [
    "b)"
   ]
  },
  {
   "cell_type": "code",
   "execution_count": 52,
   "id": "f630b183-08be-48c4-887c-2f36c5702cb9",
   "metadata": {},
   "outputs": [],
   "source": [
    "array = np.array([1.0, 1.2, 2.2, 2.0, 3.0, 2.0])"
   ]
  },
  {
   "cell_type": "code",
   "execution_count": 53,
   "id": "ea675d84-2101-403a-885b-faca342d4519",
   "metadata": {},
   "outputs": [
    {
     "data": {
      "text/plain": [
       "array([1., 2., 3., 2.])"
      ]
     },
     "execution_count": 53,
     "metadata": {},
     "output_type": "execute_result"
    }
   ],
   "source": [
    "array[array==array.astype(int)]"
   ]
  },
  {
   "cell_type": "code",
   "execution_count": 54,
   "id": "bd481416-2dc1-480f-a3b9-24c3228b9d0b",
   "metadata": {},
   "outputs": [
    {
     "data": {
      "text/plain": [
       "array([1. , 1.2, 2.2, 2. , 3. , 2. ])"
      ]
     },
     "execution_count": 54,
     "metadata": {},
     "output_type": "execute_result"
    }
   ],
   "source": [
    "array[array!=array.astype]"
   ]
  },
  {
   "cell_type": "code",
   "execution_count": null,
   "id": "906b3d8d-5c24-47c2-bfac-f3f9efb64f5b",
   "metadata": {},
   "outputs": [],
   "source": []
  },
  {
   "cell_type": "markdown",
   "id": "b15b706a-f10e-4684-bf3a-ceed04c9b248",
   "metadata": {},
   "source": [
    "**Q3** a)"
   ]
  },
  {
   "cell_type": "code",
   "execution_count": 55,
   "id": "87832d9b-3f2f-4325-927e-95e75821a3b5",
   "metadata": {},
   "outputs": [
    {
     "name": "stdout",
     "output_type": "stream",
     "text": [
      "Sales: [133 183 233 283 333]\n"
     ]
    }
   ],
   "source": [
    "X = 133\n",
    "sales = np.array([X, X + 50, X + 100, X + 150, X + 200])\n",
    "print(\"Sales:\", sales)"
   ]
  },
  {
   "cell_type": "markdown",
   "id": "4b20df28-6521-4a62-b586-4932f416aeb4",
   "metadata": {},
   "source": [
    "b)"
   ]
  },
  {
   "cell_type": "code",
   "execution_count": 56,
   "id": "7ba6a632-d6d1-4cdb-ac2c-c4597fb7f01b",
   "metadata": {},
   "outputs": [
    {
     "name": "stdout",
     "output_type": "stream",
     "text": [
      "Sales with tax: [143.64 197.64 251.64 305.64 359.64]\n"
     ]
    }
   ],
   "source": [
    "tax_rate = ((X % 5) + 5) / 100\n",
    "sales_with_tax = sales * (1 + tax_rate)\n",
    "print(\"Sales with tax:\", sales_with_tax)"
   ]
  },
  {
   "cell_type": "markdown",
   "id": "c7616ef2-d769-41cd-90ed-cac774f68831",
   "metadata": {},
   "source": [
    "c)"
   ]
  },
  {
   "cell_type": "code",
   "execution_count": 57,
   "id": "6b328ee5-12e3-4012-a347-4312297a6f4b",
   "metadata": {},
   "outputs": [
    {
     "name": "stdout",
     "output_type": "stream",
     "text": [
      "Discounted Sales: [126.35 173.85 209.7  254.7  299.7 ]\n"
     ]
    }
   ],
   "source": [
    "discounted_sales = np.where(sales < (X + 100), sales * 0.95, sales * 0.90)\n",
    "print(\"Discounted Sales:\", discounted_sales) "
   ]
  },
  {
   "cell_type": "markdown",
   "id": "0d7c3af6-d845-4f97-a408-b96e452a09f0",
   "metadata": {},
   "source": [
    "d)"
   ]
  },
  {
   "cell_type": "code",
   "execution_count": 58,
   "id": "cb7d01b4-c3e5-4aa9-b323-fc34060f54bb",
   "metadata": {},
   "outputs": [
    {
     "name": "stdout",
     "output_type": "stream",
     "text": [
      "Weekly Sales Data:\n",
      " [[133.   183.   233.   283.   333.  ]\n",
      " [135.66 186.66 237.66 288.66 339.66]\n",
      " [138.32 190.32 242.32 294.32 346.32]]\n"
     ]
    }
   ],
   "source": [
    "weeks = 3\n",
    "weekly_increase = np.array([1.00, 1.02, 1.04]).reshape(3, 1)\n",
    "weekly_sales = weekly_increase * sales \n",
    "print(\"Weekly Sales Data:\\n\", weekly_sales)"
   ]
  },
  {
   "cell_type": "code",
   "execution_count": null,
   "id": "a5c7e9dd-edc3-4cad-8bee-e395b55bcf53",
   "metadata": {},
   "outputs": [],
   "source": []
  },
  {
   "cell_type": "markdown",
   "id": "c92fa644-3ef4-4f0a-9016-da1e409b648e",
   "metadata": {},
   "source": [
    "**Q4** "
   ]
  },
  {
   "cell_type": "code",
   "execution_count": 59,
   "id": "05ebaa81-38c7-4d65-a1fe-3c6fb764b368",
   "metadata": {},
   "outputs": [],
   "source": [
    "x = np.linspace(-10, 10, 100)"
   ]
  },
  {
   "cell_type": "code",
   "execution_count": 5,
   "id": "bd7d1975-c4c9-4880-9241-bfa2b488b99a",
   "metadata": {},
   "outputs": [],
   "source": [
    "y_square = x**2\n",
    "y_sin = np.sin(x)\n",
    "y_exp = np.exp(x)\n",
    "y_log = np.log(np.abs(x) + 1)"
   ]
  },
  {
   "cell_type": "code",
   "execution_count": 3,
   "id": "acd7d5f5-3422-4a17-aeb2-f76059bd0c18",
   "metadata": {},
   "outputs": [
    {
     "data": {
      "text/plain": [
       "<Figure size 800x500 with 0 Axes>"
      ]
     },
     "execution_count": 3,
     "metadata": {},
     "output_type": "execute_result"
    },
    {
     "data": {
      "text/plain": [
       "<Figure size 800x500 with 0 Axes>"
      ]
     },
     "metadata": {},
     "output_type": "display_data"
    }
   ],
   "source": [
    "plt.figure(figsize=(8,5))"
   ]
  },
  {
   "cell_type": "code",
   "execution_count": 2,
   "id": "f0c36599",
   "metadata": {},
   "outputs": [
    {
     "data": {
      "image/png": "[encoded data removed]",
      "text/plain": [
       "<Figure size 800x500 with 1 Axes>"
      ]
     },
     "metadata": {},
     "output_type": "display_data"
    }
   ],
   "source": [
    "import numpy as np\n",
    "import matplotlib.pyplot as plt\n",
    "\n",
    "x = np.linspace(-10, 10, 100)\n",
    "y = x**2\n",
    "\n",
    "plt.figure(figsize=(8, 5))\n",
    "plt.plot(x, y)\n",
    "plt.title(\"y = x²\")\n",
    "plt.xlabel(\"x\")\n",
    "plt.ylabel(\"y\")\n",
    "plt.grid(True)\n",
    "plt.show()"
   ]
  },
  {
   "cell_type": "code",
   "execution_count": 6,
   "id": "fa5294e0",
   "metadata": {},
   "outputs": [
    {
     "data": {
      "image/png": "[encoded data removed]",
      "text/plain": [
       "<Figure size 640x480 with 1 Axes>"
      ]
     },
     "metadata": {},
     "output_type": "display_data"
    }
   ],
   "source": [
    "plt.subplot(2, 2, 2)\n",
    "plt.plot(x, y_sin, label=\"y = sin(x)\", color=\"green\")\n",
    "plt.title(\"y = sin(x)\")\n",
    "plt.xlabel(\"x\")\n",
    "plt.ylabel(\"y\")\n",
    "plt.grid(True)\n"
   ]
  },
  {
   "cell_type": "code",
   "execution_count": 7,
   "id": "9602a9bc",
   "metadata": {},
   "outputs": [
    {
     "data": {
      "image/png": "[encoded data removed]",
      "text/plain": [
       "<Figure size 640x480 with 1 Axes>"
      ]
     },
     "metadata": {},
     "output_type": "display_data"
    }
   ],
   "source": [
    "plt.subplot(2, 2, 3)\n",
    "plt.plot(x, y_exp, label=\"y = e^x\", color=\"red\")\n",
    "plt.title(\"y = e^x\")\n",
    "plt.xlabel(\"x\")\n",
    "plt.ylabel(\"y\")\n",
    "plt.grid(True)"
   ]
  },
  {
   "cell_type": "code",
   "execution_count": 8,
   "id": "2c7d70a2",
   "metadata": {},
   "outputs": [
    {
     "data": {
      "image/png": "[encoded data removed]",
      "text/plain": [
       "<Figure size 640x480 with 1 Axes>"
      ]
     },
     "metadata": {},
     "output_type": "display_data"
    }
   ],
   "source": [
    "plt.subplot(2, 2, 4)\n",
    "plt.plot(x, y_log, label=\"y = log(|x| + 1)\", color=\"purple\")\n",
    "plt.title(\"y = log(|x| + 1)\")\n",
    "plt.xlabel(\"x\")\n",
    "plt.ylabel(\"y\")\n",
    "plt.grid(True)"
   ]
  },
  {
   "cell_type": "code",
   "execution_count": null,
   "id": "c8950b5f",
   "metadata": {},
   "outputs": [],
   "source": []
  }
 ],
 "metadata": {
  "kernelspec": {
   "display_name": "Python 3",
   "language": "python",
   "name": "python3"
  },
  "language_info": {
   "codemirror_mode": {
    "name": "ipython",
    "version": 3
   },
   "file_extension": ".py",
   "mimetype": "text/x-python",
   "name": "python",
   "nbconvert_exporter": "python",
   "pygments_lexer": "ipython3",
   "version": "3.11.4"
  },
  "widgets": {
   "application/vnd.jupyter.widget-state+json": {
    "state": {},
    "version_major": 2,
    "version_minor": 0
   }
  }
 },
 "nbformat": 4,
 "nbformat_minor": 5
}
