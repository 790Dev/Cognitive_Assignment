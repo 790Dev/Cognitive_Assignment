{
 "cells": [
  {
   "cell_type": "code",
   "execution_count": 1,
   "id": "a6215ab3-233a-4870-b732-e9c49d7f372b",
   "metadata": {},
   "outputs": [],
   "source": [
    "import numpy as np\n",
    "import pandas as pd"
   ]
  },
  {
   "cell_type": "code",
   "execution_count": 2,
   "id": "d219e52c-e4c5-4c73-a838-70a473038685",
   "metadata": {},
   "outputs": [],
   "source": [
    "roll_number = 23  \n",
    "np.random.seed(roll_number)"
   ]
  },
  {
   "cell_type": "code",
   "execution_count": 3,
   "id": "e4da8d5a-b866-44a3-a330-f236405dcbff",
   "metadata": {},
   "outputs": [],
   "source": [
    "sales_data = np.random.randint(1000, 5001, size=(12, 4))"
   ]
  },
  {
   "cell_type": "code",
   "execution_count": 4,
   "id": "2a102bad-d562-464b-83ab-65fb99839850",
   "metadata": {},
   "outputs": [
    {
     "data": {
      "text/html": [
       "<div>\n",
       "<style scoped>\n",
       "    .dataframe tbody tr th:only-of-type {\n",
       "        vertical-align: middle;\n",
       "    }\n",
       "\n",
       "    .dataframe tbody tr th {\n",
       "        vertical-align: top;\n",
       "    }\n",
       "\n",
       "    .dataframe thead th {\n",
       "        text-align: right;\n",
       "    }\n",
       "</style>\n",
       "<table border=\"1\" class=\"dataframe\">\n",
       "  <thead>\n",
       "    <tr style=\"text-align: right;\">\n",
       "      <th></th>\n",
       "      <th>Electronics</th>\n",
       "      <th>Clothing</th>\n",
       "      <th>Home &amp; Kitchen</th>\n",
       "      <th>Sports</th>\n",
       "    </tr>\n",
       "  </thead>\n",
       "  <tbody>\n",
       "    <tr>\n",
       "      <th>Jan</th>\n",
       "      <td>1595</td>\n",
       "      <td>1742</td>\n",
       "      <td>2064</td>\n",
       "      <td>2993</td>\n",
       "    </tr>\n",
       "    <tr>\n",
       "      <th>Feb</th>\n",
       "      <td>3998</td>\n",
       "      <td>2512</td>\n",
       "      <td>3079</td>\n",
       "      <td>3285</td>\n",
       "    </tr>\n",
       "    <tr>\n",
       "      <th>Mar</th>\n",
       "      <td>4532</td>\n",
       "      <td>1347</td>\n",
       "      <td>1039</td>\n",
       "      <td>4674</td>\n",
       "    </tr>\n",
       "    <tr>\n",
       "      <th>Apr</th>\n",
       "      <td>1665</td>\n",
       "      <td>4078</td>\n",
       "      <td>2915</td>\n",
       "      <td>4501</td>\n",
       "    </tr>\n",
       "    <tr>\n",
       "      <th>May</th>\n",
       "      <td>2548</td>\n",
       "      <td>1049</td>\n",
       "      <td>4778</td>\n",
       "      <td>3507</td>\n",
       "    </tr>\n",
       "  </tbody>\n",
       "</table>\n",
       "</div>"
      ],
      "text/plain": [
       "     Electronics  Clothing  Home & Kitchen  Sports\n",
       "Jan         1595      1742            2064    2993\n",
       "Feb         3998      2512            3079    3285\n",
       "Mar         4532      1347            1039    4674\n",
       "Apr         1665      4078            2915    4501\n",
       "May         2548      1049            4778    3507"
      ]
     },
     "execution_count": 4,
     "metadata": {},
     "output_type": "execute_result"
    }
   ],
   "source": [
    "months = ['Jan', 'Feb', 'Mar', 'Apr', 'May', 'Jun',\n",
    "          'Jul', 'Aug', 'Sep', 'Oct', 'Nov', 'Dec']\n",
    "columns = ['Electronics', 'Clothing', 'Home & Kitchen', 'Sports']\n",
    "\n",
    "df = pd.DataFrame(sales_data, index=months, columns=columns)\n",
    "df.head()"
   ]
  },
  {
   "cell_type": "code",
   "execution_count": 5,
   "id": "22b9c7bc-ec2f-41c5-812b-a126ca00254e",
   "metadata": {},
   "outputs": [
    {
     "name": "stdout",
     "output_type": "stream",
     "text": [
      "     Electronics  Clothing  Home & Kitchen  Sports\n",
      "Jan         1595      1742            2064    2993\n",
      "Feb         3998      2512            3079    3285\n",
      "Mar         4532      1347            1039    4674\n",
      "Apr         1665      4078            2915    4501\n",
      "May         2548      1049            4778    3507\n",
      "       Electronics     Clothing  Home & Kitchen       Sports\n",
      "count    12.000000    12.000000       12.000000    12.000000\n",
      "mean   3024.000000  2786.333333     3056.166667  3042.666667\n",
      "std    1281.091651  1401.709108     1196.443353   964.617242\n",
      "min    1214.000000  1049.000000     1039.000000  1533.000000\n",
      "25%    1689.750000  1657.250000     2346.750000  2716.000000\n",
      "50%    3091.500000  2364.000000     2997.000000  3053.500000\n",
      "75%    4030.750000  4150.750000     3819.250000  3340.500000\n",
      "max    4781.000000  4983.000000     4795.000000  4674.000000\n"
     ]
    }
   ],
   "source": [
    "print(df.head())\n",
    "print(df.describe())"
   ]
  },
  {
   "cell_type": "code",
   "execution_count": 6,
   "id": "836aed51-5a76-4695-ab2f-f00dbfe3bf72",
   "metadata": {},
   "outputs": [],
   "source": [
    "\n",
    "total_sales_category = df.sum()\n",
    "\n",
    "\n",
    "total_sales_month = df.sum(axis=1)"
   ]
  },
  {
   "cell_type": "code",
   "execution_count": 7,
   "id": "518b783d-200d-44b6-8d09-031f39e32630",
   "metadata": {},
   "outputs": [],
   "source": [
    "sales_growth = df.pct_change().mean() * 100"
   ]
  },
  {
   "cell_type": "code",
   "execution_count": 8,
   "id": "6d7541b4-7877-49e3-b344-d92dead43597",
   "metadata": {},
   "outputs": [],
   "source": [
    "df['Total Sales'] = df.sum(axis=1)\n",
    "df['Growth Rate (%)'] = df['Total Sales'].pct_change() * 100"
   ]
  },
  {
   "cell_type": "code",
   "execution_count": 10,
   "id": "34dcffd7-b189-49d2-88d1-5d7a61e37115",
   "metadata": {},
   "outputs": [],
   "source": [
    "if roll_number % 2 == 0:\n",
    "    df['Electronics'] *= 0.90  \n",
    "else:\n",
    "    df['Clothing'] *= 0.85  "
   ]
  },
  {
   "cell_type": "code",
   "execution_count": null,
   "id": "3c666a78-27b7-40b7-a22c-4cf6155e3715",
   "metadata": {},
   "outputs": [],
   "source": []
  },
  {
   "cell_type": "code",
   "execution_count": 11,
   "id": "8ad930a4-202e-4dc3-84e4-f7bb519b09c3",
   "metadata": {},
   "outputs": [
    {
     "ename": "ModuleNotFoundError",
     "evalue": "No module named 'matplotlib'",
     "output_type": "error",
     "traceback": [
      "\u001b[1;31m---------------------------------------------------------------------------\u001b[0m",
      "\u001b[1;31mModuleNotFoundError\u001b[0m                       Traceback (most recent call last)",
      "Cell \u001b[1;32mIn[11], line 1\u001b[0m\n\u001b[1;32m----> 1\u001b[0m \u001b[38;5;28;01mimport\u001b[39;00m\u001b[38;5;250m \u001b[39m\u001b[38;5;21;01mmatplotlib\u001b[39;00m\u001b[38;5;21;01m.\u001b[39;00m\u001b[38;5;21;01mpyplot\u001b[39;00m\u001b[38;5;250m \u001b[39m\u001b[38;5;28;01mas\u001b[39;00m\u001b[38;5;250m \u001b[39m\u001b[38;5;21;01mplt\u001b[39;00m\n\u001b[0;32m      2\u001b[0m \u001b[38;5;28;01mimport\u001b[39;00m\u001b[38;5;250m \u001b[39m\u001b[38;5;21;01mseaborn\u001b[39;00m\u001b[38;5;250m \u001b[39m\u001b[38;5;28;01mas\u001b[39;00m\u001b[38;5;250m \u001b[39m\u001b[38;5;21;01msns\u001b[39;00m\n\u001b[0;32m      5\u001b[0m plt\u001b[38;5;241m.\u001b[39mfigure(figsize\u001b[38;5;241m=\u001b[39m(\u001b[38;5;241m12\u001b[39m, \u001b[38;5;241m6\u001b[39m))\n",
      "\u001b[1;31mModuleNotFoundError\u001b[0m: No module named 'matplotlib'"
     ]
    }
   ],
   "source": [
    "import matplotlib.pyplot as plt\n",
    "import seaborn as sns\n",
    "\n",
    "\n",
    "plt.figure(figsize=(12, 6))\n",
    "for col in columns:\n",
    "    plt.plot(df.index, df[col], marker='o', label=col)\n",
    "plt.title('Monthly Sales Trends')\n",
    "plt.xlabel('Month')\n",
    "plt.ylabel('Sales')\n",
    "plt.legend()\n",
    "plt.grid(True)\n",
    "plt.show()"
   ]
  },
  {
   "cell_type": "code",
   "execution_count": null,
   "id": "0c8e8626-d724-4fba-a326-904ff8a786ce",
   "metadata": {},
   "outputs": [],
   "source": [
    "import matplotlib.pyplot as plt\n",
    "import seaborn as sns\n",
    "\n",
    "# Monthly sales trends\n",
    "plt.figure(figsize=(12, 6))\n",
    "for col in columns:\n",
    "    plt.plot(df.index, df[col], marker='o', label=col)\n",
    "plt.title('Monthly Sales Trends')\n",
    "plt.xlabel('Month')\n",
    "plt.ylabel('Sales')\n",
    "plt.legend()\n",
    "plt.grid(True)\n",
    "plt.show()"
   ]
  }
 ],
 "metadata": {
  "kernelspec": {
   "display_name": "Python 3 (ipykernel)",
   "language": "python",
   "name": "python3"
  },
  "language_info": {
   "codemirror_mode": {
    "name": "ipython",
    "version": 3
   },
   "file_extension": ".py",
   "mimetype": "text/x-python",
   "name": "python",
   "nbconvert_exporter": "python",
   "pygments_lexer": "ipython3",
   "version": "3.13.1"
  },
  "widgets": {
   "application/vnd.jupyter.widget-state+json": {
    "state": {},
    "version_major": 2,
    "version_minor": 0
   }
  }
 },
 "nbformat": 4,
 "nbformat_minor": 5
}
