{
 "cells": [
  {
   "cell_type": "markdown",
   "id": "5760232d-0715-417c-8b25-cd49bb5c78db",
   "metadata": {},
   "source": [
    "**Q1**"
   ]
  },
  {
   "cell_type": "code",
   "execution_count": 1,
   "id": "d2319f86-c167-4ff8-9aa2-848a91370c1f",
   "metadata": {},
   "outputs": [],
   "source": [
    "import numpy as np"
   ]
  },
  {
   "cell_type": "code",
   "execution_count": 2,
   "id": "a0995c0a-b5d3-4735-b549-de3c6914cea7",
   "metadata": {},
   "outputs": [],
   "source": [
    "arr = np.array([2,5,6,35,6,786,32,35])"
   ]
  },
  {
   "cell_type": "code",
   "execution_count": 3,
   "id": "72c74f3f-6057-4c69-9ec9-8736ce1ae18a",
   "metadata": {},
   "outputs": [
    {
     "data": {
      "text/plain": [
       "array([  4,   7,   8,  37,   8, 788,  34,  37])"
      ]
     },
     "execution_count": 3,
     "metadata": {},
     "output_type": "execute_result"
    }
   ],
   "source": [
    "arr+2"
   ]
  },
  {
   "cell_type": "code",
   "execution_count": 4,
   "id": "9fe4075e-6cb8-4bc4-8fa8-a07651b14e16",
   "metadata": {},
   "outputs": [
    {
     "data": {
      "text/plain": [
       "array([   6,   15,   18,  105,   18, 2358,   96,  105])"
      ]
     },
     "execution_count": 4,
     "metadata": {},
     "output_type": "execute_result"
    }
   ],
   "source": [
    "arr*3"
   ]
  },
  {
   "cell_type": "code",
   "execution_count": 5,
   "id": "c8d5cbd6-b4d1-4119-adef-51649ad9ec99",
   "metadata": {},
   "outputs": [
    {
     "data": {
      "text/plain": [
       "array([  1. ,   2.5,   3. ,  17.5,   3. , 393. ,  16. ,  17.5])"
      ]
     },
     "execution_count": 5,
     "metadata": {},
     "output_type": "execute_result"
    }
   ],
   "source": [
    "arr/2"
   ]
  },
  {
   "cell_type": "markdown",
   "id": "c2d8c049-9fa7-4031-b80c-9778a2dff6a1",
   "metadata": {},
   "source": [
    "**Q2**"
   ]
  },
  {
   "cell_type": "markdown",
   "id": "8ba043f2-1f03-40ad-8e1a-912e0b78d212",
   "metadata": {},
   "source": [
    "a)"
   ]
  },
  {
   "cell_type": "code",
   "execution_count": 6,
   "id": "97103a0b-1278-41fb-b08a-30b0cffa9876",
   "metadata": {},
   "outputs": [],
   "source": [
    " arr = np.array([1, 2, 3, 6, 4, 5])\n",
    "revarr = arr[::-1]"
   ]
  },
  {
   "cell_type": "code",
   "execution_count": 7,
   "id": "0722f88c-9eed-415b-8541-abed0bec3cfd",
   "metadata": {},
   "outputs": [
    {
     "data": {
      "text/plain": [
       "array([5, 4, 6, 3, 2, 1])"
      ]
     },
     "execution_count": 7,
     "metadata": {},
     "output_type": "execute_result"
    }
   ],
   "source": [
    "revarr"
   ]
  },
  {
   "cell_type": "markdown",
   "id": "31a5cdab-63a2-4a07-a0a1-77270b6c402e",
   "metadata": {},
   "source": [
    "b)"
   ]
  },
  {
   "cell_type": "code",
   "execution_count": null,
   "id": "0ce0e1fc-32e8-4fd9-abb5-d88eb7aba86a",
   "metadata": {},
   "outputs": [],
   "source": []
  },
  {
   "cell_type": "code",
   "execution_count": null,
   "id": "3a0565df-1623-4d58-9119-19ad97cf4597",
   "metadata": {},
   "outputs": [],
   "source": []
  },
  {
   "cell_type": "markdown",
   "id": "915434e3-c8f1-4256-be74-370a173ce5c2",
   "metadata": {},
   "source": [
    "**Q3**"
   ]
  },
  {
   "cell_type": "code",
   "execution_count": 8,
   "id": "e78b6cc8-c545-4366-98b2-56dae057a65d",
   "metadata": {},
   "outputs": [
    {
     "data": {
      "text/plain": [
       "array([[10, 20, 30],\n",
       "       [40, 50, 60],\n",
       "       [70, 80, 90]])"
      ]
     },
     "execution_count": 8,
     "metadata": {},
     "output_type": "execute_result"
    }
   ],
   "source": [
    "arr=np.array([[10, 20, 30], [40, 50, 60], [70, 80, 90]])\n",
    "arr"
   ]
  },
  {
   "cell_type": "code",
   "execution_count": 9,
   "id": "1f73b135-9aff-4eac-94ed-8e1a6528e309",
   "metadata": {},
   "outputs": [
    {
     "data": {
      "text/plain": [
       "np.int64(30)"
      ]
     },
     "execution_count": 9,
     "metadata": {},
     "output_type": "execute_result"
    }
   ],
   "source": [
    "arr[0,2]"
   ]
  },
  {
   "cell_type": "code",
   "execution_count": 10,
   "id": "fdc72fd2-7cfc-441a-923d-31251ea98291",
   "metadata": {},
   "outputs": [
    {
     "data": {
      "text/plain": [
       "np.int64(70)"
      ]
     },
     "execution_count": 10,
     "metadata": {},
     "output_type": "execute_result"
    }
   ],
   "source": [
    "arr[2,0]"
   ]
  },
  {
   "cell_type": "markdown",
   "id": "50969e7c-713d-4334-bc54-bafd1a3abcf0",
   "metadata": {},
   "source": [
    "**Q4**"
   ]
  },
  {
   "cell_type": "code",
   "execution_count": 11,
   "id": "3dec1648-db27-4c77-a3dd-fb6fb6e52c36",
   "metadata": {},
   "outputs": [],
   "source": [
    "dev = np.linspace(10,100,25)"
   ]
  },
  {
   "cell_type": "code",
   "execution_count": 12,
   "id": "8fd201b0-bec8-4f19-be2a-196c670ce909",
   "metadata": {},
   "outputs": [
    {
     "data": {
      "text/plain": [
       "array([ 10.  ,  13.75,  17.5 ,  21.25,  25.  ,  28.75,  32.5 ,  36.25,\n",
       "        40.  ,  43.75,  47.5 ,  51.25,  55.  ,  58.75,  62.5 ,  66.25,\n",
       "        70.  ,  73.75,  77.5 ,  81.25,  85.  ,  88.75,  92.5 ,  96.25,\n",
       "       100.  ])"
      ]
     },
     "execution_count": 12,
     "metadata": {},
     "output_type": "execute_result"
    }
   ],
   "source": [
    "dev"
   ]
  },
  {
   "cell_type": "code",
   "execution_count": 13,
   "id": "ca39e201-ae44-4890-a9aa-4ed467852620",
   "metadata": {},
   "outputs": [
    {
     "data": {
      "text/plain": [
       "(25,)"
      ]
     },
     "execution_count": 13,
     "metadata": {},
     "output_type": "execute_result"
    }
   ],
   "source": [
    "dev.shape"
   ]
  },
  {
   "cell_type": "code",
   "execution_count": 14,
   "id": "090946bb-c651-4ba0-9862-6aef8c046d0c",
   "metadata": {},
   "outputs": [
    {
     "data": {
      "text/plain": [
       "25"
      ]
     },
     "execution_count": 14,
     "metadata": {},
     "output_type": "execute_result"
    }
   ],
   "source": [
    "dev.size"
   ]
  },
  {
   "cell_type": "code",
   "execution_count": 15,
   "id": "3e2c7616-a135-4d3c-8b61-77c088415ef0",
   "metadata": {},
   "outputs": [
    {
     "data": {
      "text/plain": [
       "dtype('float64')"
      ]
     },
     "execution_count": 15,
     "metadata": {},
     "output_type": "execute_result"
    }
   ],
   "source": [
    "dev.dtype"
   ]
  },
  {
   "cell_type": "code",
   "execution_count": 16,
   "id": "1e543b79-6b03-48c5-b3ec-b287a5bcb8b6",
   "metadata": {},
   "outputs": [
    {
     "data": {
      "text/plain": [
       "200"
      ]
     },
     "execution_count": 16,
     "metadata": {},
     "output_type": "execute_result"
    }
   ],
   "source": [
    "dev.nbytes"
   ]
  },
  {
   "cell_type": "code",
   "execution_count": 17,
   "id": "c8a41460-ee94-4eae-a1e6-bc35e0ff28b4",
   "metadata": {},
   "outputs": [],
   "source": [
    "transpose = dev.reshape(25,1).T"
   ]
  },
  {
   "cell_type": "code",
   "execution_count": 18,
   "id": "05dbf0f9-7f83-4303-8bec-f48c573d2e83",
   "metadata": {},
   "outputs": [
    {
     "data": {
      "text/plain": [
       "array([[ 10.  ,  13.75,  17.5 ,  21.25,  25.  ,  28.75,  32.5 ,  36.25,\n",
       "         40.  ,  43.75,  47.5 ,  51.25,  55.  ,  58.75,  62.5 ,  66.25,\n",
       "         70.  ,  73.75,  77.5 ,  81.25,  85.  ,  88.75,  92.5 ,  96.25,\n",
       "        100.  ]])"
      ]
     },
     "execution_count": 18,
     "metadata": {},
     "output_type": "execute_result"
    }
   ],
   "source": [
    "transpose"
   ]
  },
  {
   "cell_type": "code",
   "execution_count": 19,
   "id": "41f7d77a-ffc2-4b3b-94e3-a15b2bb1a255",
   "metadata": {},
   "outputs": [
    {
     "data": {
      "text/plain": [
       "array([ 10.  ,  13.75,  17.5 ,  21.25,  25.  ,  28.75,  32.5 ,  36.25,\n",
       "        40.  ,  43.75,  47.5 ,  51.25,  55.  ,  58.75,  62.5 ,  66.25,\n",
       "        70.  ,  73.75,  77.5 ,  81.25,  85.  ,  88.75,  92.5 ,  96.25,\n",
       "       100.  ])"
      ]
     },
     "execution_count": 19,
     "metadata": {},
     "output_type": "execute_result"
    }
   ],
   "source": [
    "transpose2 = dev.T\n",
    "transpose2"
   ]
  },
  {
   "cell_type": "markdown",
   "id": "ed9e71ac-bcd5-42b0-a0ea-179919eb7cc7",
   "metadata": {},
   "source": [
    "**Q5**"
   ]
  },
  {
   "cell_type": "code",
   "execution_count": 20,
   "id": "61e37ab9-b4d4-4571-8a38-8b8990061178",
   "metadata": {},
   "outputs": [],
   "source": [
    "x = [10,20,30,40,50,60, 70, 80, 90, 15, 20, 35]"
   ]
  },
  {
   "cell_type": "code",
   "execution_count": 21,
   "id": "9642d015-a440-4ea9-9714-623b2d6cd194",
   "metadata": {},
   "outputs": [
    {
     "data": {
      "text/plain": [
       "array([10, 20, 30, 40, 50, 60, 70, 80, 90, 15, 20, 35])"
      ]
     },
     "execution_count": 21,
     "metadata": {},
     "output_type": "execute_result"
    }
   ],
   "source": [
    "ucs420_dev = np.array(x)\n",
    "ucs420_dev"
   ]
  },
  {
   "cell_type": "code",
   "execution_count": 22,
   "id": "a68b791a-72c9-4206-8c9b-b9ec707c8723",
   "metadata": {},
   "outputs": [],
   "source": [
    "ucs420_dev = ucs420_dev.reshape(3,4)"
   ]
  },
  {
   "cell_type": "code",
   "execution_count": 23,
   "id": "d3c59b37-8556-429c-a449-c7e3ada55df4",
   "metadata": {},
   "outputs": [
    {
     "data": {
      "text/plain": [
       "array([[10, 20, 30, 40],\n",
       "       [50, 60, 70, 80],\n",
       "       [90, 15, 20, 35]])"
      ]
     },
     "execution_count": 23,
     "metadata": {},
     "output_type": "execute_result"
    }
   ],
   "source": [
    "ucs420_dev"
   ]
  },
  {
   "cell_type": "code",
   "execution_count": 24,
   "id": "06160f29-1ddc-4090-8fdd-bc324231e593",
   "metadata": {},
   "outputs": [
    {
     "data": {
      "text/plain": [
       "np.float64(43.333333333333336)"
      ]
     },
     "execution_count": 24,
     "metadata": {},
     "output_type": "execute_result"
    }
   ],
   "source": [
    "np.mean(ucs420_dev)"
   ]
  },
  {
   "cell_type": "code",
   "execution_count": 25,
   "id": "7637de8f-c8c0-4c55-aacf-1d7a908a4e57",
   "metadata": {},
   "outputs": [
    {
     "data": {
      "text/plain": [
       "np.int64(90)"
      ]
     },
     "execution_count": 25,
     "metadata": {},
     "output_type": "execute_result"
    }
   ],
   "source": [
    "np.max(ucs420_dev)"
   ]
  },
  {
   "cell_type": "code",
   "execution_count": 26,
   "id": "feecbf88-d917-4fcc-9940-6f27fbe347bb",
   "metadata": {},
   "outputs": [
    {
     "data": {
      "text/plain": [
       "np.float64(37.5)"
      ]
     },
     "execution_count": 26,
     "metadata": {},
     "output_type": "execute_result"
    }
   ],
   "source": [
    "np.median(ucs420_dev)"
   ]
  },
  {
   "cell_type": "code",
   "execution_count": 27,
   "id": "02a3866b-774c-47ee-b03b-dcaab1e6d617",
   "metadata": {},
   "outputs": [
    {
     "data": {
      "text/plain": [
       "np.int64(10)"
      ]
     },
     "execution_count": 27,
     "metadata": {},
     "output_type": "execute_result"
    }
   ],
   "source": [
    "np.min(ucs420_dev)"
   ]
  },
  {
   "cell_type": "code",
   "execution_count": 28,
   "id": "2d039bb9-b8ae-4d7c-bb1e-6974b72560a6",
   "metadata": {},
   "outputs": [
    {
     "data": {
      "text/plain": [
       "array([10, 15, 20, 30, 35, 40, 50, 60, 70, 80, 90])"
      ]
     },
     "execution_count": 28,
     "metadata": {},
     "output_type": "execute_result"
    }
   ],
   "source": [
    "np.unique(ucs420_dev)"
   ]
  },
  {
   "cell_type": "code",
   "execution_count": 29,
   "id": "02552f89-f7f2-4fda-80be-4f848d59a41e",
   "metadata": {},
   "outputs": [],
   "source": [
    "reshaped_ucs420_dev = ucs420_dev.reshape(4,3)"
   ]
  },
  {
   "cell_type": "code",
   "execution_count": 30,
   "id": "26a71156-52c1-4b5e-bee2-708bf7636650",
   "metadata": {},
   "outputs": [
    {
     "data": {
      "text/plain": [
       "array([[10, 20, 30],\n",
       "       [40, 50, 60],\n",
       "       [70, 80, 90],\n",
       "       [15, 20, 35]])"
      ]
     },
     "execution_count": 30,
     "metadata": {},
     "output_type": "execute_result"
    }
   ],
   "source": [
    "reshaped_ucs420_dev"
   ]
  },
  {
   "cell_type": "code",
   "execution_count": 32,
   "id": "2b989590-a22d-40ca-bc52-b72482219909",
   "metadata": {},
   "outputs": [],
   "source": [
    "resize_ucs420_dev = np.resize(ucs420_dev,(2,3))"
   ]
  },
  {
   "cell_type": "code",
   "execution_count": 33,
   "id": "7b9894cc-c6ac-46cd-8564-40f8c82bcb51",
   "metadata": {},
   "outputs": [
    {
     "data": {
      "text/plain": [
       "array([[10, 20, 30],\n",
       "       [40, 50, 60]])"
      ]
     },
     "execution_count": 33,
     "metadata": {},
     "output_type": "execute_result"
    }
   ],
   "source": [
    "resize_ucs420_dev"
   ]
  },
  {
   "cell_type": "code",
   "execution_count": null,
   "id": "646cc7ec-0ce6-4de6-9309-c5c06e08c429",
   "metadata": {},
   "outputs": [],
   "source": []
  }
 ],
 "metadata": {
  "kernelspec": {
   "display_name": "Python 3 (ipykernel)",
   "language": "python",
   "name": "python3"
  },
  "language_info": {
   "codemirror_mode": {
    "name": "ipython",
    "version": 3
   },
   "file_extension": ".py",
   "mimetype": "text/x-python",
   "name": "python",
   "nbconvert_exporter": "python",
   "pygments_lexer": "ipython3",
   "version": "3.13.1"
  },
  "widgets": {
   "application/vnd.jupyter.widget-state+json": {
    "state": {},
    "version_major": 2,
    "version_minor": 0
   }
  }
 },
 "nbformat": 4,
 "nbformat_minor": 5
}
